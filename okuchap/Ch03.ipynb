{
 "cells": [
  {
   "cell_type": "markdown",
   "metadata": {
    "toc": "true"
   },
   "source": [
    "# Table of Contents\n",
    " <p><div class=\"lev1\"><a href=\"#分類問題　ー機械学習ライブラリscikit-learnの活用-1\"><span class=\"toc-item-num\">1&nbsp;&nbsp;</span>分類問題　ー機械学習ライブラリscikit-learnの活用</a></div><div class=\"lev2\"><a href=\"#scikit-learnの活用へのファーストステップ-1.1\"><span class=\"toc-item-num\">1.1&nbsp;&nbsp;</span>scikit-learnの活用へのファーストステップ</a></div><div class=\"lev3\"><a href=\"#scikit-learnを使ったパーセプトロンのトレーニング-1.1.1\"><span class=\"toc-item-num\">1.1.1&nbsp;&nbsp;</span>scikit-learnを使ったパーセプトロンのトレーニング</a></div>"
   ]
  },
  {
   "cell_type": "markdown",
   "metadata": {},
   "source": [
    "# 分類問題　ー機械学習ライブラリscikit-learnの活用"
   ]
  },
  {
   "cell_type": "markdown",
   "metadata": {},
   "source": [
    "## scikit-learnの活用へのファーストステップ"
   ]
  },
  {
   "cell_type": "markdown",
   "metadata": {},
   "source": [
    "### scikit-learnを使ったパーセプトロンのトレーニング"
   ]
  },
  {
   "cell_type": "code",
   "execution_count": 1,
   "metadata": {
    "collapsed": true
   },
   "outputs": [],
   "source": [
    "from sklearn import datasets\n",
    "import numpy as np"
   ]
  },
  {
   "cell_type": "code",
   "execution_count": 2,
   "metadata": {
    "collapsed": true
   },
   "outputs": [],
   "source": [
    "iris = datasets.load_iris()"
   ]
  },
  {
   "cell_type": "code",
   "execution_count": 3,
   "metadata": {
    "collapsed": false
   },
   "outputs": [
    {
     "data": {
      "text/plain": [
       "sklearn.datasets.base.Bunch"
      ]
     },
     "execution_count": 3,
     "metadata": {},
     "output_type": "execute_result"
    }
   ],
   "source": [
    "type(iris)"
   ]
  },
  {
   "cell_type": "code",
   "execution_count": 8,
   "metadata": {
    "collapsed": false
   },
   "outputs": [],
   "source": [
    "X = iris.data[:, [2, 3]]\n",
    "y = iris.target"
   ]
  },
  {
   "cell_type": "code",
   "execution_count": 9,
   "metadata": {
    "collapsed": false
   },
   "outputs": [
    {
     "name": "stdout",
     "output_type": "stream",
     "text": [
      "Class labels: [0 1 2]\n"
     ]
    }
   ],
   "source": [
    "print (\"Class labels:\", np.unique(y))"
   ]
  },
  {
   "cell_type": "code",
   "execution_count": 10,
   "metadata": {
    "collapsed": true
   },
   "outputs": [],
   "source": [
    "from sklearn.cross_validation import train_test_split"
   ]
  },
  {
   "cell_type": "code",
   "execution_count": 11,
   "metadata": {
    "collapsed": true
   },
   "outputs": [],
   "source": [
    "X_train, X_test, y_train, y_test = train_test_split(X, y, test_size=0.3, random_state=0)"
   ]
  },
  {
   "cell_type": "code",
   "execution_count": 13,
   "metadata": {
    "collapsed": false
   },
   "outputs": [],
   "source": [
    "from sklearn.preprocessing import StandardScaler"
   ]
  },
  {
   "cell_type": "code",
   "execution_count": 14,
   "metadata": {
    "collapsed": true
   },
   "outputs": [],
   "source": [
    "sc = StandardScaler()"
   ]
  },
  {
   "cell_type": "code",
   "execution_count": 15,
   "metadata": {
    "collapsed": false
   },
   "outputs": [
    {
     "data": {
      "text/plain": [
       "StandardScaler(copy=True, with_mean=True, with_std=True)"
      ]
     },
     "execution_count": 15,
     "metadata": {},
     "output_type": "execute_result"
    }
   ],
   "source": [
    "sc.fit(X_train)"
   ]
  },
  {
   "cell_type": "code",
   "execution_count": 17,
   "metadata": {
    "collapsed": true
   },
   "outputs": [
    {
     "name": "stdout",
     "output_type": "stream",
     "text": [
      "[ 3.5  5.5  5.7  5.   5.8  3.9  6.1  4.7  3.8  4.9  5.1  4.5  5.   4.7  5.2\n",
      "  4.5  1.6  5.1  4.2  3.6  4.   4.6  6.   1.5  1.1  5.3  4.2  1.7  1.5  4.9\n",
      "  1.5  5.1  3.   1.4  4.5  6.1  4.2  1.4  5.9  5.7  5.8  5.6  1.6  1.6  5.1\n",
      "  5.7  1.3  5.4  1.4  5.   5.4  1.3  1.4  5.8  1.4  1.3  1.7  4.   5.9  6.6\n",
      "  1.4  1.5  1.4  4.5  4.4  1.2  1.7  4.3  1.5  6.9  3.3  6.4  4.4  1.5  4.8\n",
      "  1.2  6.7  1.5  1.6  6.1  1.4  5.6  4.1  3.9  3.5  5.3  5.2  4.9  5.   1.6\n",
      "  3.7  5.6  5.1  1.5  4.6  4.1  4.8  4.4  1.3  1.5  1.5  5.6  4.1  6.7  1.4]\n"
     ]
    }
   ],
   "source": [
    "print(X_train[:,0])"
   ]
  },
  {
   "cell_type": "code",
   "execution_count": 18,
   "metadata": {
    "collapsed": true
   },
   "outputs": [],
   "source": [
    "X_train_std = sc.transform(X_train)\n",
    "X_test_std = sc.transform(X_test)"
   ]
  },
  {
   "cell_type": "code",
   "execution_count": 19,
   "metadata": {
    "collapsed": true
   },
   "outputs": [
    {
     "name": "stdout",
     "output_type": "stream",
     "text": [
      "[-0.18295039  0.93066067  1.04202177  0.6522579   1.09770233  0.03977182\n",
      "  1.26474398  0.48521625 -0.01590873  0.59657735  0.70793846  0.37385514\n",
      "  0.6522579   0.48521625  0.76361901  0.37385514 -1.24088089  0.70793846\n",
      "  0.20681348 -0.12726983  0.09545238  0.42953569  1.20906343 -1.29656144\n",
      " -1.51928365  0.81929956  0.20681348 -1.18520034 -1.29656144  0.59657735\n",
      " -1.29656144  0.70793846 -0.46135315 -1.35224199  0.37385514  1.26474398\n",
      "  0.20681348 -1.35224199  1.15338288  1.04202177  1.09770233  0.98634122\n",
      " -1.24088089 -1.24088089  0.70793846  1.04202177 -1.40792255  0.87498011\n",
      " -1.35224199  0.6522579   0.87498011 -1.40792255 -1.35224199  1.09770233\n",
      " -1.35224199 -1.40792255 -1.18520034  0.09545238  1.15338288  1.54314675\n",
      " -1.35224199 -1.29656144 -1.35224199  0.37385514  0.31817459 -1.4636031\n",
      " -1.18520034  0.26249403 -1.29656144  1.71018841 -0.29431149  1.43178564\n",
      "  0.31817459 -1.29656144  0.5408968  -1.4636031   1.5988273  -1.29656144\n",
      " -1.24088089  1.26474398 -1.35224199  0.98634122  0.15113293  0.03977182\n",
      " -0.18295039  0.81929956  0.76361901  0.59657735  0.6522579  -1.24088089\n",
      " -0.07158928  0.98634122  0.70793846 -1.29656144  0.42953569  0.15113293\n",
      "  0.5408968   0.31817459 -1.40792255 -1.29656144 -1.29656144  0.98634122\n",
      "  0.15113293  1.5988273  -1.35224199]\n"
     ]
    }
   ],
   "source": [
    "print(X_train_std[:,0])"
   ]
  },
  {
   "cell_type": "code",
   "execution_count": 20,
   "metadata": {
    "collapsed": true
   },
   "outputs": [],
   "source": [
    "from sklearn.linear_model import Perceptron"
   ]
  },
  {
   "cell_type": "code",
   "execution_count": 21,
   "metadata": {
    "collapsed": true
   },
   "outputs": [],
   "source": [
    "ppn = Perceptron(n_iter=40, eta0=0.1, random_state=0, shuffle=True)\n",
    "# どういう風にrandomizeされるんだっけ？"
   ]
  },
  {
   "cell_type": "code",
   "execution_count": 22,
   "metadata": {
    "collapsed": true
   },
   "outputs": [
    {
     "data": {
      "text/plain": [
       "Perceptron(alpha=0.0001, class_weight=None, eta0=0.1, fit_intercept=True,\n",
       "      n_iter=40, n_jobs=1, penalty=None, random_state=0, shuffle=True,\n",
       "      verbose=0, warm_start=False)"
      ]
     },
     "execution_count": 22,
     "metadata": {},
     "output_type": "execute_result"
    }
   ],
   "source": [
    "ppn.fit(X_train_std, y_train)"
   ]
  },
  {
   "cell_type": "code",
   "execution_count": 23,
   "metadata": {
    "collapsed": true
   },
   "outputs": [],
   "source": [
    "y_pred = ppn.predict(X_test_std)"
   ]
  },
  {
   "cell_type": "code",
   "execution_count": 24,
   "metadata": {
    "collapsed": false
   },
   "outputs": [
    {
     "name": "stdout",
     "output_type": "stream",
     "text": [
      "Misclassified samples: 4\n"
     ]
    }
   ],
   "source": [
    "print('Misclassified samples: %d' % (y_test != y_pred).sum())"
   ]
  },
  {
   "cell_type": "markdown",
   "metadata": {},
   "source": [
    "テスト用サンプルのサイズは$45(= 150*0.3)$\n",
    "\n",
    "この場合の誤分類率は$4/45 = 0.089$\n",
    "\n",
    "scikit-learnでは、様々な性能指標も実装されている。metricsモジュールにより提供される。"
   ]
  },
  {
   "cell_type": "code",
   "execution_count": 25,
   "metadata": {
    "collapsed": true
   },
   "outputs": [],
   "source": [
    "from sklearn.metrics import accuracy_score"
   ]
  },
  {
   "cell_type": "code",
   "execution_count": 26,
   "metadata": {
    "collapsed": false
   },
   "outputs": [
    {
     "name": "stdout",
     "output_type": "stream",
     "text": [
      "Accuracy: 0.91\n"
     ]
    }
   ],
   "source": [
    "print('Accuracy: %.2f' % accuracy_score(y_test, y_pred))"
   ]
  },
  {
   "cell_type": "markdown",
   "metadata": {},
   "source": [
    "cf: **過学習**：モデルが、トレーニングデータセットのパターンを適切に認識するものの、未知のデータにたいしてうまく汎化できないこと。\n",
    "\n",
    "過学習の検出と防止→Ch.05"
   ]
  },
  {
   "cell_type": "code",
   "execution_count": null,
   "metadata": {
    "collapsed": true
   },
   "outputs": [],
   "source": [
    "from matplotlib.colors import ListedColormap\n",
    "import matplotlib.pyplot as plt\n",
    "\n",
    "def plot_decision_regions(X, y, classifier, resolution=0.02):\n",
    "    # マーカーとカラーマップの準備\n",
    "    markers = ('s', 'x', 'o', '^', 'v')\n",
    "    colors = ('red', 'blue', 'lightgreen', 'gray', 'cyan')\n",
    "    cmap = ListedColormap(colors[:len(np.unique(y))])\n",
    "    \n",
    "    # 決定領域のプロット\n",
    "    x1_min, x1_max = X[:, 0].min() -1, X[:, 0].max() +1\n",
    "    x2_min, x2_max = X[:, 1].min() -1, X[:, 1].max() +1\n",
    "    \n",
    "    # グリッドポイントの生成\n",
    "    xx1, xx2 = np.meshgrid(np.arange(x1_min, x1_max, resolution),\n",
    "                           np.arange(x2_min, x2_max, resolution))\n",
    "    \n",
    "    # 各特徴量を一次元配列に変換して予測を実行\n",
    "    Z = classifier.predict(np.array(np.array([xx1.ravel(), xx2.ravel()]).T))\n",
    "    \n",
    "    # 予測結果を元のグリッドポイントのデータサイズに変換\n",
    "    Z = Z.reshape(xx1.shape)\n",
    "    \n",
    "    # グリッドポイントの等高線のプロット\n",
    "    # alphaは透明度を表す（The alpha blending value）\n",
    "    plt.contourf(xx1, xx2, Z, alpha=0.4, cmap=cmap)\n",
    "    \n",
    "    # 軸の範囲の設定\n",
    "    plt.xlim(xx1.min(), xx1.max())\n",
    "    plt.ylim(xx2.min(), xx2.max())\n",
    "    \n",
    "    # クラスごとにサンプルをプロット\n",
    "    for idx, cl in enumerate(np.unique(y)):\n",
    "        plt.scatter(x=X[y == cl, 0], y=X[y == cl,1], alpha=0.8, c=cmap(idx), marker=markers[idx], label=cl)\n",
    "    \n",
    "    #テストサンプルを目立たせる（点をoで表示）\n",
    "    if test_idx:\n",
    "        X_test, y_test = X[test_idx, :], y[test_idx]\n",
    "        plt.scatter(X_test[:,0])"
   ]
  },
  {
   "cell_type": "code",
   "execution_count": 28,
   "metadata": {
    "collapsed": false
   },
   "outputs": [
    {
     "name": "stdout",
     "output_type": "stream",
     "text": [
      "a\n"
     ]
    }
   ],
   "source": [
    "test = (1,2,3)\n",
    "if test:\n",
    "    print ('a')"
   ]
  },
  {
   "cell_type": "code",
   "execution_count": null,
   "metadata": {
    "collapsed": true
   },
   "outputs": [],
   "source": []
  }
 ],
 "metadata": {
  "kernelspec": {
   "display_name": "Python 3",
   "language": "python",
   "name": "python3"
  },
  "language_info": {
   "codemirror_mode": {
    "name": "ipython",
    "version": 3
   },
   "file_extension": ".py",
   "mimetype": "text/x-python",
   "name": "python",
   "nbconvert_exporter": "python",
   "pygments_lexer": "ipython3",
   "version": "3.4.5"
  },
  "toc": {
   "toc_cell": true,
   "toc_number_sections": true,
   "toc_threshold": 6,
   "toc_window_display": false
  }
 },
 "nbformat": 4,
 "nbformat_minor": 1
}
